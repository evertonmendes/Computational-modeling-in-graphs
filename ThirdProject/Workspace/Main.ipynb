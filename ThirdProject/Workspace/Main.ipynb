{
 "metadata": {
  "language_info": {
   "codemirror_mode": {
    "name": "ipython",
    "version": 3
   },
   "file_extension": ".py",
   "mimetype": "text/x-python",
   "name": "python",
   "nbconvert_exporter": "python",
   "pygments_lexer": "ipython3",
   "version": "3.7.9"
  },
  "orig_nbformat": 4,
  "kernelspec": {
   "name": "python3",
   "display_name": "Python 3.7.9 64-bit"
  },
  "interpreter": {
   "hash": "cf16bccad1c80041e3bb03c1f2bd15e9ca230e2e95882b7ec66259c791c3c770"
  }
 },
 "nbformat": 4,
 "nbformat_minor": 2,
 "cells": [
  {
   "source": [
    "from READPajek import ReadPajek"
   ],
   "cell_type": "code",
   "metadata": {},
   "execution_count": 5,
   "outputs": []
  },
  {
   "cell_type": "code",
   "execution_count": 6,
   "metadata": {},
   "outputs": [],
   "source": [
    "graph=ReadPajek(\"ExerciseB/case1.pajek\") "
   ]
  },
  {
   "cell_type": "code",
   "execution_count": 7,
   "metadata": {},
   "outputs": [],
   "source": [
    "def Find_cycle(graph, name_file):\n",
    "\n",
    "    color = {}\n",
    "    parent = {}\n",
    "\n",
    "    for value in range(graph[0]):\n",
    "        color[str(value+1)] = 'White'\n",
    "        parent[str(value+1)] = None\n",
    "\n",
    "    #print(color)\n",
    "\n",
    "    def dfs(vertex, color):\n",
    "        color[str(vertex)] = \"Red\"\n",
    "        for neighbor in graph[1][vertex-1]:\n",
    "            print(neighbor)\n",
    "            #print(neighbor)\n",
    "            if color[str(neighbor)] == 'White':\n",
    "                print(vertex, neighbor)\n",
    "                parent[str(neighbor)] = vertex\n",
    "                dfs(neighbor, color)\n",
    "\n",
    "            elif color[str(neighbor)] == \"Red\" and parent[str(vertex)]!=neighbor:\n",
    "                print (\"Cycle found\", vertex, neighbor)\n",
    "                #print(\"Here\")\n",
    "                return True\n",
    "        color[str(vertex)] = \"Black\"\n",
    "        return False\n",
    "\n",
    "    cycle = False\n",
    "    parent[str(1)]=-1\n",
    "    for n_vertex in range(graph[0]):\n",
    "        if color[str(n_vertex+1)] == 'White':\n",
    "            cycle = dfs(n_vertex+1, color)\n",
    "            if cycle == True:\n",
    "                break\n",
    "        \n",
    "    #print(\"mark_txt\")    \n",
    "    txt_file=open(name_file.replace(\"pajek\", \"txt\"), \"w\")\n",
    "    if cycle==True:\n",
    "        #txt_file.write(\"S\")\n",
    "        print(\"S\")\n",
    "    else:\n",
    "        #txt_file.write(\"N\")\n",
    "        print(\"N\")\n",
    "\n",
    "    txt_file.close()"
   ]
  },
  {
   "cell_type": "code",
   "execution_count": 8,
   "metadata": {},
   "outputs": [
    {
     "output_type": "stream",
     "name": "stdout",
     "text": [
      "2\n1 2\n1\n3\n2 3\n2\n5\n3 5\n3\n7\n3 7\n3\n6\n1 6\n1\n4\n6 4\n6\n9\n8 9\n8\n10\n9 10\n9\n8\nCycle found 10 8\n10\nCycle found 8 10\nS\n"
     ]
    }
   ],
   "source": [
    "    \n",
    "#help_path=os.path.dirname(__file__)\n",
    "#file_name=raw_input(\"\")\n",
    "#graph=ReadPajek(filename=help_path+file_name)\n",
    "graph=ReadPajek(\"ExerciseB/case1.pajek\")\n",
    "Find_cycle(graph=graph, name_file=\"ExerciseB/case1.pajek\") \n",
    "#Find_cycle(graph=graph, name_file=help_path+file_name)"
   ]
  },
  {
   "cell_type": "code",
   "execution_count": 7,
   "metadata": {},
   "outputs": [],
   "source": [
    "import networkx as nx"
   ]
  },
  {
   "cell_type": "code",
   "execution_count": 47,
   "metadata": {},
   "outputs": [],
   "source": [
    "def dfs_all(graph):\n",
    "\n",
    "    def dfs(graph, vertex):\n",
    "        visited.add(vertex)\n",
    "        for neighbor in graph[1][vertex-1]:\n",
    "            if neighbor not in visited:\n",
    "                dfs(graph, neighbor)\n",
    "\n",
    "    visited = set()\n",
    "    previous_lenght=1\n",
    "    components=[]\n",
    "    name_file=input()\n",
    "\n",
    "    for vertex in range(graph[0]):\n",
    "    \n",
    "        if not vertex in visited:\n",
    "            dfs(graph, vertex)\n",
    "            components.append(len(visited)-previous_lenght)\n",
    "            previous_lenght=len(visited)\n",
    "\n",
    "    components.sort()\n",
    "    text_file=open(name_file.replace('pajek', 'txt'), 'w')\n",
    "    text_file.writeline(str(len(components)))\n",
    "    for value in components:\n",
    "        text_file.writeline(str(value))"
   ]
  },
  {
   "cell_type": "code",
   "execution_count": 1,
   "metadata": {},
   "outputs": [
    {
     "output_type": "stream",
     "name": "stdout",
     "text": [
      "Cycle found D A\nCycle found A D\nIs_cyclic  True\n"
     ]
    }
   ],
   "source": [
    "adj_list = {\n",
    "    \"A\" : [\"C\", \"B\", \"D\"],\n",
    "    \"B\" : [\"A\", \"D\"],\n",
    "    \"C\" : [\"A\"],\n",
    "    \"D\" : [\"A\",\"B\" \"E\"],\n",
    "    \"E\" : [\"D\"]\n",
    "}\n",
    "\n",
    "color = {}\n",
    "parent = {}\n",
    "\n",
    "for u in adj_list.keys():\n",
    "    color[u] = 'W'\n",
    "    parent[u] = None\n",
    "\n",
    "def dfs(u, color, parent):\n",
    "    color[u] = 'G'\n",
    "    for v in adj_list[u]:\n",
    "        if color[v] == 'W':\n",
    "            parent[v] = u\n",
    "            dfs(v, color, parent)\n",
    "        elif color[v] == \"G\" and parent[u]!=v:\n",
    "            print (\"Cycle found\", u, v)\n",
    "            return True\n",
    "    color[u] = \"B\"\n",
    "    return False\n",
    "\n",
    "is_cyclic = False\n",
    "for u in adj_list.keys():\n",
    "    if color[u] == 'W':\n",
    "        is_cyclic = dfs(u, color, parent)\n",
    "        if is_cyclic == True:\n",
    "            break\n",
    "print (\"Is_cyclic \", is_cyclic)"
   ]
  },
  {
   "cell_type": "code",
   "execution_count": null,
   "metadata": {},
   "outputs": [],
   "source": []
  }
 ]
}