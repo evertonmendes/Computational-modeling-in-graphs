{
 "metadata": {
  "language_info": {
   "codemirror_mode": {
    "name": "ipython",
    "version": 3
   },
   "file_extension": ".py",
   "mimetype": "text/x-python",
   "name": "python",
   "nbconvert_exporter": "python",
   "pygments_lexer": "ipython3",
   "version": "3.7.9"
  },
  "orig_nbformat": 2,
  "kernelspec": {
   "name": "python379jvsc74a57bd0cf16bccad1c80041e3bb03c1f2bd15e9ca230e2e95882b7ec66259c791c3c770",
   "display_name": "Python 3.7.9 64-bit"
  }
 },
 "nbformat": 4,
 "nbformat_minor": 2,
 "cells": [
  {
   "cell_type": "code",
   "execution_count": 1,
   "metadata": {},
   "outputs": [],
   "source": [
    "import matplotlib.pyplot as plt\n",
    "import numpy as np\n",
    "from READPajek import ReadPajek\n",
    "#from Search import *"
   ]
  },
  {
   "cell_type": "code",
   "execution_count": 9,
   "metadata": {},
   "outputs": [],
   "source": [
    "def main():\n",
    "\n",
    "    archive= open(\"case.in\", \"r\")\n",
    "    graph_name=archive.read()\n",
    "    archive_out=open(\"resposta.out\", \"w\")\n",
    "\n",
    "    graph= ReadPajek(graph_name)\n",
    "\n",
    "    n_vertex=graph[0]\n",
    "\n",
    "    for i in range(graph[0]):\n",
    "        for j in range(graph[0]):\n",
    "\n",
    "            archive_out.write(str(bfs(graph, i+1, j+1))+\" \")\n",
    "        \n",
    "        archive_out.write(\"\\n\")\n",
    "\n",
    "\n",
    "    archive.close()\n",
    "    archive_out.close()"
   ]
  },
  {
   "cell_type": "code",
   "execution_count": 10,
   "metadata": {},
   "outputs": [],
   "source": [
    "main()"
   ]
  },
  {
   "cell_type": "code",
   "execution_count": 2,
   "metadata": {},
   "outputs": [],
   "source": [
    "def bfs(graph, initial_vertex, final_vertex):\n",
    "    \n",
    "    queue=[initial_vertex]\n",
    "    visited={}\n",
    "    \n",
    "    visited[initial_vertex]=0\n",
    "\n",
    "    while queue:\n",
    "\n",
    "        if final_vertex in visited:\n",
    "            return visited[final_vertex]\n",
    "\n",
    "        vertex = queue.pop(0)\n",
    "\n",
    "        for neighbor in graph[1][vertex-1]:\n",
    "\n",
    "            if neighbor not in visited:\n",
    "                queue.append(neighbor)\n",
    "                visited[neighbor] = visited[vertex] + 1\n",
    "\n",
    "\n",
    "    return 0"
   ]
  },
  {
   "cell_type": "code",
   "execution_count": 1,
   "metadata": {},
   "outputs": [
    {
     "output_type": "execute_result",
     "data": {
      "text/plain": [
       "0"
      ]
     },
     "metadata": {},
     "execution_count": 1
    }
   ],
   "source": [
    "def main():\n",
    "\n",
    "\n",
    "\n",
    "    def ReadPajek(filename=''):\n",
    "\n",
    "        archive= open(filename, 'r')\n",
    "        \n",
    "        aux=archive.readline().split()\n",
    "        n_nodes=aux[1]\n",
    "        n_nodes=int(n_nodes)\n",
    "\n",
    "        #Drop the string information 'Edges'\n",
    "        archive.readline()\n",
    "\n",
    "        adjency_list=[0]*n_nodes\n",
    "        for i in range(len(adjency_list)):\n",
    "            adjency_list[i]=[]\n",
    "\n",
    "        for edges in archive:\n",
    "            \n",
    "            edges=edges.split()\n",
    "            adjency_list[int(edges[0])-1].append(int(edges[1]))\n",
    "            adjency_list[int(edges[1])-1].append(int(edges[0]))\n",
    "\n",
    "        return n_nodes, adjency_list\n",
    "\n",
    "\n",
    "\n",
    "    def bfs(graph, initial_vertex, final_vertex):\n",
    "    \n",
    "        queue=[initial_vertex]\n",
    "        visited={}\n",
    "        \n",
    "        visited[initial_vertex]=0\n",
    "\n",
    "        while queue:\n",
    "\n",
    "            if final_vertex in visited:\n",
    "                return visited[final_vertex]\n",
    "\n",
    "            vertex = queue.pop(0)\n",
    "\n",
    "            for neighbor in graph[1][vertex-1]:\n",
    "\n",
    "                if neighbor not in visited:\n",
    "                    queue.append(neighbor)\n",
    "                    visited[neighbor] = visited[vertex] + 1\n",
    "\n",
    "\n",
    "        return 0\n",
    "\n",
    "\n",
    "\n",
    "    archive= open(\"case.in\", \"r\")\n",
    "    graph_name=archive.read()\n",
    "    archive_out=open(\"resposta.out\", \"w\")\n",
    "\n",
    "    graph= ReadPajek(graph_name)\n",
    "\n",
    "    n_vertex=graph[0]\n",
    "\n",
    "    for i in range(n_vertex):\n",
    "        for j in range(n_vertex):\n",
    "\n",
    "            archive_out.write(str(bfs(graph, i+1, j+1))+\" \")\n",
    "        \n",
    "        archive_out.write(\"\\n\")\n",
    "\n",
    "\n",
    "    archive.close()\n",
    "    archive_out.close()\n",
    "    \n",
    "   \n",
    "    return 0\n",
    "\n",
    "\n",
    "\n",
    "main()"
   ]
  },
  {
   "cell_type": "code",
   "execution_count": 3,
   "metadata": {},
   "outputs": [
    {
     "output_type": "execute_result",
     "data": {
      "text/plain": [
       "0"
      ]
     },
     "metadata": {},
     "execution_count": 3
    }
   ],
   "source": []
  },
  {
   "cell_type": "code",
   "execution_count": null,
   "metadata": {},
   "outputs": [],
   "source": []
  }
 ]
}