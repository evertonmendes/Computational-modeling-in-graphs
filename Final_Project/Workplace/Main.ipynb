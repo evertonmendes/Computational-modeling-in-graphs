{
 "cells": [
  {
   "cell_type": "code",
   "execution_count": 1,
   "source": [
    "def ReadPajek(filename=''):\r\n",
    "\r\n",
    "    archive= open(filename, 'r')\r\n",
    "        \r\n",
    "    aux=archive.readline().split()\r\n",
    "    n_nodes=aux[1]\r\n",
    "    n_nodes=int(n_nodes)\r\n",
    "\r\n",
    "    #Drop the string information 'Edges or Arcs'\r\n",
    "    type_of_graph=archive.readline()\r\n",
    "\r\n",
    "    adjency_list=[0]*n_nodes\r\n",
    "    for i in range(len(adjency_list)):\r\n",
    "        adjency_list[i]=[]\r\n",
    "\r\n",
    "\r\n",
    "    if type_of_graph[:6]==\"*Edges\":\r\n",
    "\r\n",
    "        for edges in archive:\r\n",
    "            \r\n",
    "            edges=edges.split()\r\n",
    "            try:\r\n",
    "                adjency_list[int(edges[0])-1].append(int(edges[1]))\r\n",
    "                adjency_list[int(edges[1])-1].append(int(edges[0]))\r\n",
    "            except(IndexError):\r\n",
    "                print(len(adjency_list), edges)\r\n",
    "\r\n",
    "    else:\r\n",
    "\r\n",
    "         for edges in archive:\r\n",
    "            \r\n",
    "            edges=edges.split()\r\n",
    "            try:\r\n",
    "                adjency_list[int(edges[0])-1].append(int(edges[1]))\r\n",
    "            except(IndexError):\r\n",
    "                print(len(adjency_list), edges)\r\n",
    "\r\n",
    "\r\n",
    "    archive.close()\r\n",
    "\r\n",
    "    return n_nodes, adjency_list"
   ],
   "outputs": [],
   "metadata": {}
  },
  {
   "cell_type": "code",
   "execution_count": 22,
   "source": [
    "    def dfs_all(graph):\r\n",
    "\r\n",
    "        def dfs(graph, vertex):\r\n",
    "            visited.add(vertex)\r\n",
    "            for neighbor in graph[1][vertex-1]:\r\n",
    "                parent_sink[neighbor].append(vertex)\r\n",
    "                if neighbor not in visited:\r\n",
    "                    dfs(graph, neighbor)\r\n",
    "                    \r\n",
    "\r\n",
    "        visited = set()\r\n",
    "        previous_lenght=1\r\n",
    "        components=[]\r\n",
    "        parent_sink={}\r\n",
    "        for vertex in range(graph[0]):\r\n",
    "            parent_sink[vertex+1]=[]\r\n",
    "\r\n",
    "\r\n",
    "        for vertex in range(graph[0]):\r\n",
    "        \r\n",
    "            if not vertex in visited:\r\n",
    "                dfs(graph, vertex)\r\n",
    "                components.append(len(visited)-previous_lenght)\r\n",
    "                previous_lenght=len(visited)\r\n",
    "        \r\n",
    "        print(parent_sink)"
   ],
   "outputs": [],
   "metadata": {}
  },
  {
   "cell_type": "code",
   "execution_count": 23,
   "source": [
    "graph=ReadPajek(\"ProjectA/case1.pajek\")"
   ],
   "outputs": [],
   "metadata": {}
  },
  {
   "cell_type": "code",
   "execution_count": 24,
   "source": [
    "dfs_all(graph)"
   ],
   "outputs": [
    {
     "output_type": "stream",
     "name": "stdout",
     "text": [
      "{1: [], 2: [], 3: [], 4: [], 5: [1, 4], 6: [2, 4], 7: [1, 3], 8: [2, 3], 9: [7, 1], 10: [1, 6], 11: [1, 4], 12: [1, 3], 13: [1, 8], 14: [7, 1], 15: [1, 6], 16: [1, 4], 17: [1, 3], 18: [1, 8], 19: [7, 1], 20: [10, 2], 21: [17, 4], 22: [5, 1], 23: [15, 2], 24: [17, 8], 25: [1, 3], 26: [6, 2], 27: [12, 17], 28: [11, 2], 29: [7, 1], 30: [10, 2], 31: [17, 4], 32: [5, 1], 33: [15, 2], 34: [17, 8], 35: [1, 3], 36: [6, 2], 37: [12, 17], 38: [11, 2], 39: [34, 1], 40: [12, 2], 41: [37, 17], 42: [23, 31], 43: [13, 33], 44: [7, 18], 45: [35, 1], 46: [27, 2], 47: [21, 17], 48: [23, 24], 49: [5, 13], 50: [32, 18], 51: [1, 3], 52: [38, 2], 53: [30, 17], 54: [23, 8], 55: [13, 25], 56: [18, 6], 57: [15, 1], 58: [18, 4], 59: [34, 1], 60: [12, 2], 61: [37, 17], 62: [23, 31], 63: [13, 33], 64: [7, 18], 65: [35, 1], 66: [27, 2], 67: [21, 17], 68: [23, 24], 69: [5, 13], 70: [32, 18], 71: [1, 3], 72: [38, 2], 73: [30, 17], 74: [23, 8], 75: [13, 25], 76: [18, 6], 77: [15, 1], 78: [18, 4]}\n",
      "{0, 1, 2, 3, 4, 5, 6, 7, 8, 9, 10, 11, 12, 13, 14, 15, 16, 17, 18, 19, 20, 21, 22, 23, 24, 25, 26, 27, 28, 29, 30, 31, 32, 33, 34, 35, 36, 37, 38, 39, 40, 41, 42, 43, 44, 45, 46, 47, 48, 49, 50, 51, 52, 53, 54, 55, 56, 57, 58, 59, 60, 61, 62, 63, 64, 65, 66, 67, 68, 69, 70, 71, 72, 73, 74, 75, 76, 77, 78}\n"
     ]
    }
   ],
   "metadata": {}
  },
  {
   "cell_type": "code",
   "execution_count": null,
   "source": [
    "count_sink=0\r\n",
    "for neighbors in graph[1]:\r\n",
    "    if len(neighbors)==0:\r\n",
    "        count_sink+=1"
   ],
   "outputs": [],
   "metadata": {}
  },
  {
   "cell_type": "code",
   "execution_count": 34,
   "source": [
    "def dfs_one(graph, vertex, visited=[]):\r\n",
    "    \r\n",
    "    visited.append(vertex)\r\n",
    "    for neighbor in graph[1][vertex-1]:\r\n",
    "        if neighbor not in visited:\r\n",
    "            dfs_one(graph, neighbor)\r\n",
    "    \r\n",
    "    return visited"
   ],
   "outputs": [],
   "metadata": {}
  },
  {
   "cell_type": "code",
   "execution_count": 36,
   "source": [
    "dfs_one(graph, 1)"
   ],
   "outputs": [
    {
     "output_type": "execute_result",
     "data": {
      "text/plain": [
       "[0,\n",
       " 1,\n",
       " 5,\n",
       " 22,\n",
       " 32,\n",
       " 50,\n",
       " 70,\n",
       " 49,\n",
       " 69,\n",
       " 7,\n",
       " 9,\n",
       " 14,\n",
       " 19,\n",
       " 29,\n",
       " 44,\n",
       " 64,\n",
       " 10,\n",
       " 20,\n",
       " 30,\n",
       " 53,\n",
       " 73,\n",
       " 11,\n",
       " 28,\n",
       " 38,\n",
       " 52,\n",
       " 72,\n",
       " 12,\n",
       " 27,\n",
       " 46,\n",
       " 66,\n",
       " 37,\n",
       " 41,\n",
       " 61,\n",
       " 40,\n",
       " 60,\n",
       " 13,\n",
       " 43,\n",
       " 55,\n",
       " 63,\n",
       " 75,\n",
       " 15,\n",
       " 23,\n",
       " 42,\n",
       " 48,\n",
       " 54,\n",
       " 62,\n",
       " 68,\n",
       " 74,\n",
       " 33,\n",
       " 57,\n",
       " 77,\n",
       " 16,\n",
       " 17,\n",
       " 21,\n",
       " 47,\n",
       " 67,\n",
       " 24,\n",
       " 31,\n",
       " 34,\n",
       " 39,\n",
       " 59,\n",
       " 18,\n",
       " 56,\n",
       " 58,\n",
       " 76,\n",
       " 78,\n",
       " 25,\n",
       " 35,\n",
       " 45,\n",
       " 65,\n",
       " 51,\n",
       " 71]"
      ]
     },
     "metadata": {},
     "execution_count": 36
    }
   ],
   "metadata": {}
  },
  {
   "cell_type": "code",
   "execution_count": null,
   "source": [],
   "outputs": [],
   "metadata": {}
  }
 ],
 "metadata": {
  "orig_nbformat": 4,
  "language_info": {
   "name": "python",
   "version": "3.7.9",
   "mimetype": "text/x-python",
   "codemirror_mode": {
    "name": "ipython",
    "version": 3
   },
   "pygments_lexer": "ipython3",
   "nbconvert_exporter": "python",
   "file_extension": ".py"
  },
  "kernelspec": {
   "name": "python3",
   "display_name": "Python 3.7.9 64-bit"
  },
  "interpreter": {
   "hash": "cf16bccad1c80041e3bb03c1f2bd15e9ca230e2e95882b7ec66259c791c3c770"
  }
 },
 "nbformat": 4,
 "nbformat_minor": 2
}