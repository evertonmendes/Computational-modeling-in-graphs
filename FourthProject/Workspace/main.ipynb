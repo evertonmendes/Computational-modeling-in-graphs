{
 "metadata": {
  "language_info": {
   "codemirror_mode": {
    "name": "ipython",
    "version": 3
   },
   "file_extension": ".py",
   "mimetype": "text/x-python",
   "name": "python",
   "nbconvert_exporter": "python",
   "pygments_lexer": "ipython3",
   "version": "3.7.9"
  },
  "orig_nbformat": 4,
  "kernelspec": {
   "name": "python3",
   "display_name": "Python 3.7.9 64-bit"
  },
  "interpreter": {
   "hash": "cf16bccad1c80041e3bb03c1f2bd15e9ca230e2e95882b7ec66259c791c3c770"
  }
 },
 "nbformat": 4,
 "nbformat_minor": 2,
 "cells": [
  {
   "cell_type": "code",
   "execution_count": 1,
   "metadata": {},
   "outputs": [],
   "source": [
    "from Dijkstra import ReadPajek, Dijkstra_Algorithm\n",
    "from Algorithm import dijkstra"
   ]
  },
  {
   "cell_type": "code",
   "execution_count": 2,
   "metadata": {},
   "outputs": [],
   "source": [
    "graph1=ReadPajek(\"case1.pajek\")"
   ]
  },
  {
   "cell_type": "code",
   "execution_count": 3,
   "metadata": {},
   "outputs": [
    {
     "output_type": "execute_result",
     "data": {
      "text/plain": [
       "{1: {6: 586, 2: 1528, 3: 1964, 4: 567, 5: 154},\n",
       " 2: {6: 1115, 3: 675, 4: 1258, 5: 1463},\n",
       " 3: {1: 56, 2: 1652, 6: 1645, 4: 1279, 5: 1927},\n",
       " 4: {1: 363, 2: 1570, 3: 1750, 6: 1559, 5: 1423},\n",
       " 5: {3: 947, 4: 863, 6: 1765},\n",
       " 6: {1: 1913, 5: 1070}}"
      ]
     },
     "metadata": {},
     "execution_count": 3
    }
   ],
   "source": [
    "graph1[1]"
   ]
  },
  {
   "cell_type": "code",
   "execution_count": 4,
   "metadata": {},
   "outputs": [
    {
     "output_type": "stream",
     "name": "stdout",
     "text": [
      "here1115\nhere675\nhere1258\nhere1463\nhere731\nhere885\n"
     ]
    },
    {
     "output_type": "execute_result",
     "data": {
      "text/plain": [
       "{1: 731, 2: 0, 3: 675, 4: 1258, 5: 885, 6: 1115}"
      ]
     },
     "metadata": {},
     "execution_count": 4
    }
   ],
   "source": [
    "Dijkstra_Algorithm(graph1[1], 2)"
   ]
  },
  {
   "cell_type": "code",
   "execution_count": 18,
   "metadata": {},
   "outputs": [
    {
     "output_type": "stream",
     "name": "stdout",
     "text": [
      "0 1528 1101 567 154 586 \n731 0 675 1258 885 1115 \n56 1584 0 623 210 642 \n363 1570 1464 0 517 949 \n1003 2433 947 863 0 1589 \n1913 3441 2017 1933 1070 0 \n"
     ]
    }
   ],
   "source": [
    "archive=open(\"case_out.txt\", \"w\")\n",
    "\n",
    "for i in range(graph1[0]):\n",
    "    minim=Dijkstra_Algorithm(graph1[1], i+1)\n",
    "    for distance in minim.values():\n",
    "        print(distance, end=\" \")\n",
    "        archive.write(str(distance)+\" \")\n",
    "    print('')\n",
    "    archive.write('\\n')\n",
    "\n",
    "archive.close()\n",
    "\n"
   ]
  },
  {
   "cell_type": "code",
   "execution_count": 9,
   "metadata": {},
   "outputs": [
    {
     "output_type": "stream",
     "name": "stdout",
     "text": [
      "1913\nAnd the path is [6, 1]\n3441\nAnd the path is [6, 1, 2]\n2017\nAnd the path is [6, 5, 3]\n1933\nAnd the path is [6, 5, 4]\n1070\nAnd the path is [6, 5]\n0\nAnd the path is [6]\n"
     ]
    }
   ],
   "source": [
    "for i in range(graph1[0]):\n",
    "    dijkstra(graph1[1], 6, i+1)"
   ]
  },
  {
   "cell_type": "code",
   "execution_count": null,
   "metadata": {},
   "outputs": [],
   "source": []
  }
 ]
}